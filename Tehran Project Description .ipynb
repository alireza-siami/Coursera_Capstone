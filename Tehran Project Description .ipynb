{
    "cells": [
        {
            "cell_type": "markdown",
            "metadata": {
                "collapsed": true
            },
            "source": "# Project Introduction\n\nThis Project is a partial fulfillment of the Coursera IBM Data Science certification course. The project requirements are to leverage the \u201cFoursquare location data to explore or compare neighborhoods or cities of your choice or to come up with a problem that you can use the Foursquare location data to solve.\u201d I decided to work on my home town, Tehran, Iran as my project, though the amount of data about Tehran in the internet is low in compare to other cities. Even the Foursquare API may have a limited applicability because the app may not be widely used in my city.\n\nTehran is the capital of Iran and Tehran Province. With a population of around 8.7 million in the city and 15 million in the larger metropolitan area of Greater Tehran, Tehran is the most populous city in Iran and Western Asia, and has the second-largest metropolitan area in the Middle East (after Cairo). It is ranked 24th in the world by the population of its metropolitan area. [https://en.wikipedia.org/wiki/Tehran].\n\nNowadays, international oil companies are developing interest in investing Iran for a number of reasons. The main one is that the sanctions against Iran, especially Iranian oil industry are decreasing these days. Besides, the work force in Iran is much cheaper than other oil-rich countries. Assuming these, some of oil companies are inclined to establish an office in the capital of Iran (Tehran).\n\nFrom a foreign company view, there are some factors that contribute to select suitable location for installing the office. The important ones are:\n\n\u2022 The location of office should be in business area. (Being close to other government and private offices)\n\n\u2022 The location should be secure.\n\n\u2022 Being close to hotels and foreign cuisine restaurants .\n\n\u2022 Easy access to public transports like metro.\n\nIn this notebook I will try to compare different potential neighborhoods based on the factors that are important to choose better location for the office of a foreign company.\n\n# Data Description\n\nIn this section, I describe the data that will be used in the project.\n\n## Data Source 1 \u2013 Neighborhood Data\n\nBecause of the shortage in data about Greater Tehran in the internet, I decided to carry out my project on Tehran that includes 22 districts. I first need to obtain a list of all the locations or neighborhoods in Tehran. This information will be obtained from the following web address: https://en.wikipedia.org/wiki/Category:Neighbourhoods_in_Tehran.\n\n## Data Source 2 \u2013 Geographical Coordinates\n\nGeographical coordinates for each neighborhood will be obtained with the aid of GEOPY Library.\n\n## Data Source 3 \u2013 Venue categories\n\nI will use the Foursquare API to retrieve venues, using the coordinates obtained in Data Source 2 above."
        },
        {
            "cell_type": "code",
            "execution_count": null,
            "metadata": {},
            "outputs": [],
            "source": ""
        }
    ],
    "metadata": {
        "kernelspec": {
            "display_name": "Python 3.7",
            "language": "python",
            "name": "python3"
        },
        "language_info": {
            "codemirror_mode": {
                "name": "ipython",
                "version": 3
            },
            "file_extension": ".py",
            "mimetype": "text/x-python",
            "name": "python",
            "nbconvert_exporter": "python",
            "pygments_lexer": "ipython3",
            "version": "3.7.10"
        }
    },
    "nbformat": 4,
    "nbformat_minor": 1
}